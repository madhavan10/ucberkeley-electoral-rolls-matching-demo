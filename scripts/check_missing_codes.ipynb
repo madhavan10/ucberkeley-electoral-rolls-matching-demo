{
 "cells": [
  {
   "cell_type": "code",
   "execution_count": 5,
   "metadata": {},
   "outputs": [],
   "source": [
    "import os\n",
    "import pandas as pd"
   ]
  },
  {
   "cell_type": "code",
   "execution_count": 27,
   "metadata": {},
   "outputs": [
    {
     "name": "stdout",
     "output_type": "stream",
     "text": [
      "154\n"
     ]
    }
   ],
   "source": [
    "census = pd.read_csv(r\"C:\\users\\madhavan\\dropbox\\electoral_rolls_matching\\up_directory\\district\\Gorakhpur.csv\")\n",
    "census = census.where(census[\"CD Block Name\"] == \"Piprauli\").dropna(how = \"all\").reset_index(drop = True)\n",
    "codes_list = list(census[\"Village Code\"])\n",
    "print(len(codes_list))"
   ]
  },
  {
   "cell_type": "code",
   "execution_count": 28,
   "metadata": {
    "scrolled": true
   },
   "outputs": [],
   "source": [
    "os.chdir(r\"C:\\users\\madhavan\\dropbox\\electoral_rolls_matching\\up_matchfiles\\include_left\\completed\\codes\")\n",
    "ifile = \"33_5_piprauli.xlsx\"\n",
    "ps_codes_df = pd.read_excel(ifile)"
   ]
  },
  {
   "cell_type": "code",
   "execution_count": 29,
   "metadata": {},
   "outputs": [],
   "source": [
    "codes_set = dict()\n",
    "for i in ps_codes_df.index:\n",
    "    code = ps_codes_df[\"code\"][i]\n",
    "    if code != \"unmatched entities\" and code not in codes_list:\n",
    "        if codes_set.get(code, -1) != -1:\n",
    "            codes_set[code].append(ps_codes_df[\"ps_id\"][i])\n",
    "        else:\n",
    "            codes_set[code] = [ps_codes_df[\"ps_id\"][i]]\n",
    "for k, v in codes_set.items():\n",
    "    print(str(k) + \":\\t\" + str(v))"
   ]
  },
  {
   "cell_type": "code",
   "execution_count": 5,
   "metadata": {},
   "outputs": [],
   "source": [
    "os.chdir(r\"C:\\users\\madhavan\\dropbox\\electoral_rolls_matching\\basti\")\n",
    "ofile = ifile.split(\".\")[0] + \".txt\"\n",
    "f = open(ofile, \"w\")\n",
    "for k, v in codes_set.items():\n",
    "    f.write(str(k) + \":\\t\" + str(v) + \"\\n\")\n",
    "f.close();"
   ]
  },
  {
   "cell_type": "code",
   "execution_count": null,
   "metadata": {},
   "outputs": [],
   "source": []
  },
  {
   "cell_type": "code",
   "execution_count": null,
   "metadata": {},
   "outputs": [],
   "source": []
  }
 ],
 "metadata": {
  "kernelspec": {
   "display_name": "Python 3",
   "language": "python",
   "name": "python3"
  },
  "language_info": {
   "codemirror_mode": {
    "name": "ipython",
    "version": 3
   },
   "file_extension": ".py",
   "mimetype": "text/x-python",
   "name": "python",
   "nbconvert_exporter": "python",
   "pygments_lexer": "ipython3",
   "version": "3.7.4"
  }
 },
 "nbformat": 4,
 "nbformat_minor": 2
}
