{
 "cells": [
  {
   "cell_type": "code",
   "execution_count": 9,
   "metadata": {},
   "outputs": [],
   "source": [
    "import sys\n",
    "import os \n",
    "import pandas as pd"
   ]
  },
  {
   "cell_type": "markdown",
   "metadata": {},
   "source": [
    "### Set paths and variables"
   ]
  },
  {
   "cell_type": "code",
   "execution_count": 10,
   "metadata": {},
   "outputs": [],
   "source": [
    "#one-time setup\n",
    "merged_files_dir = r\"C:\\Users\\Madhavan\\Dropbox\\electoral_rolls_matching\\up_merged\\include_left\""
   ]
  },
  {
   "cell_type": "code",
   "execution_count": 11,
   "metadata": {},
   "outputs": [],
   "source": [
    "#change per AC\n",
    "\n",
    "form20_path = r\"C:\\Users\\Madhavan\\Dropbox\\electoral_rolls_matching\\up_form_20_by_ac\\56_286.csv\"\n",
    "\n",
    "#change per tehsil/block\n",
    "\n",
    "all_matches_path = r\"C:\\Users\\Madhavan\\Dropbox\\electoral_rolls_matching\\up_matchfiles\\include_left\\all_matches_10_1_huzoorpur.xls\"\n",
    "\n",
    "tmp_suffix = (all_matches_path.split('.')[0]).split('all_matches')[1]\n",
    "merged_data_path = os.path.join(merged_files_dir, \"merged\" + tmp_suffix + \".xlsx\") #automatic"
   ]
  },
  {
   "cell_type": "markdown",
   "metadata": {},
   "source": [
    "### Read form 20 data"
   ]
  },
  {
   "cell_type": "code",
   "execution_count": 12,
   "metadata": {
    "scrolled": true
   },
   "outputs": [],
   "source": [
    "form20 = pd.read_csv(form20_path).reset_index(drop = True)"
   ]
  },
  {
   "cell_type": "markdown",
   "metadata": {},
   "source": [
    "### Read data from all_matches file"
   ]
  },
  {
   "cell_type": "code",
   "execution_count": 13,
   "metadata": {
    "scrolled": false
   },
   "outputs": [
    {
     "name": "stdout",
     "output_type": "stream",
     "text": [
      "[1, 1, 1, 1, 1, 1, 2, 1, 1, 1, 1, 1, 1, 1, 1, 1, 1, 1, 1, 1, 1, 1, 1, 1, 1, 1, 1, 1, 1, 1, 1, 1, 1, 1, 1, 1, 1, 1, 1, 1, 1, 1, 1, 1, 1, 1, 1, 1, 1, 1, 1, 1, 1, 1, 1, 1, 1, 1, 1, 1, 1, 1, 1, 1, 1, 1, 1, 1, 1, 1, 1, 1, 1, 1, 1, 1, 1, 1, 1, 1]\n"
     ]
    }
   ],
   "source": [
    "matches = [[], [], [], [], []]\n",
    "codes = [[], [], [], [], []]\n",
    "aDf = pd.read_excel(all_matches_path)\n",
    "correct_matches = list(aDf[\"correct_match_number\"])\n",
    "#check that manual job was done\n",
    "print(correct_matches)\n",
    "ps_ids = list(aDf[\"ps_id\"])\n",
    "\"\"\"\n",
    "for e in list(aDf[\"ps_id\"]):\n",
    "    tmpList = []\n",
    "    num = \"\"\n",
    "    for c in e:    \n",
    "        if c.isnumeric():\n",
    "            num += c\n",
    "        elif not num == \"\":\n",
    "            tmpList.append(int(num))\n",
    "            num = \"\"\n",
    "    ps_ids.append(tmpList)\n",
    "print(ps_ids)\n",
    "\"\"\"\n",
    "matches[0] = list(aDf[\"match 1\"])\n",
    "matches[1] = list(aDf[\"match 2\"])\n",
    "matches[2] = list(aDf[\"match 3\"])\n",
    "matches[3] = list(aDf[\"match 4\"])\n",
    "matches[4] = list(aDf[\"match 5\"])\n",
    "codes[0] = list(aDf[\"code 1\"])\n",
    "codes[1] = list(aDf[\"code 2\"])\n",
    "codes[2] = list(aDf[\"code 3\"])\n",
    "codes[3] = list(aDf[\"code 4\"])\n",
    "codes[4] = list(aDf[\"code 5\"])"
   ]
  },
  {
   "cell_type": "markdown",
   "metadata": {},
   "source": [
    "### Merge Census data and Form 20 using ps_id"
   ]
  },
  {
   "cell_type": "code",
   "execution_count": 14,
   "metadata": {},
   "outputs": [],
   "source": [
    "census_names = []\n",
    "census_codes = []\n",
    "\n",
    "for i in range(0, len(correct_matches)):\n",
    "    if correct_matches[i] != 0:\n",
    "        census_names.append(matches[correct_matches[i] - 1][i])\n",
    "        census_codes.append(codes[correct_matches[i] - 1][i])\n",
    "    else:\n",
    "        census_names.append(\"(no match)\")\n",
    "        census_codes.append(\"(no match)\")\n",
    "    \n",
    "tmpDf = pd.DataFrame({\"Census_Name\":census_names, \"Census_Code\":census_codes, \"ps_id\":ps_ids, \"only_main\":list(aDf[\"only_main\"])})\n",
    "tmpDf = tmpDf[['ps_id', 'Census_Name', 'Census_Code', 'only_main']]"
   ]
  },
  {
   "cell_type": "code",
   "execution_count": 15,
   "metadata": {},
   "outputs": [],
   "source": [
    "mergedDf = pd.merge(tmpDf, form20, on = \"ps_id\", how = \"left\") "
   ]
  },
  {
   "cell_type": "code",
   "execution_count": 16,
   "metadata": {},
   "outputs": [],
   "source": [
    "mergedDf.to_excel(merged_data_path, index = False)"
   ]
  },
  {
   "cell_type": "code",
   "execution_count": null,
   "metadata": {},
   "outputs": [],
   "source": []
  },
  {
   "cell_type": "code",
   "execution_count": null,
   "metadata": {},
   "outputs": [],
   "source": []
  }
 ],
 "metadata": {
  "kernelspec": {
   "display_name": "Python 3",
   "language": "python",
   "name": "python3"
  },
  "language_info": {
   "codemirror_mode": {
    "name": "ipython",
    "version": 3
   },
   "file_extension": ".py",
   "mimetype": "text/x-python",
   "name": "python",
   "nbconvert_exporter": "python",
   "pygments_lexer": "ipython3",
   "version": "3.7.4"
  }
 },
 "nbformat": 4,
 "nbformat_minor": 2
}
