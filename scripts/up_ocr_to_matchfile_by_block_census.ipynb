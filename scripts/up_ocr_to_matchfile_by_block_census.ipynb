{
 "cells": [
  {
   "cell_type": "markdown",
   "metadata": {},
   "source": [
    "Packages Used"
   ]
  },
  {
   "cell_type": "code",
   "execution_count": 1,
   "metadata": {
    "scrolled": false
   },
   "outputs": [],
   "source": [
    "import sys\n",
    "import os \n",
    "import pandas as pd\n",
    "import numpy as np\n",
    "from fuzzywuzzy import fuzz \n",
    "from fuzzywuzzy import process\n",
    "from indic_transliteration import sanscript\n",
    "from indic_transliteration.sanscript import SchemeMap, SCHEMES, transliterate\n",
    "from collections import OrderedDict"
   ]
  },
  {
   "cell_type": "markdown",
   "metadata": {},
   "source": [
    "### Set directory paths and variables"
   ]
  },
  {
   "cell_type": "code",
   "execution_count": 2,
   "metadata": {},
   "outputs": [],
   "source": [
    "#change per block\n",
    "block = \"गौरा\"\n",
    "block_no = 448\n",
    "all_matches_path = r\"C:\\Users\\Madhavan\\Dropbox\\electoral_rolls_matching\\up_matchfiles\\include_left\\all_matches_60_7_gaura.xlsx\"\n",
    "\n",
    "#change for every new AC\n",
    "electoral_roll_names_hin_path = r\"C:\\Users\\Madhavan\\Dropbox\\electoral_rolls_matching\\up_ocr\\include_left\\processed\\68_1.xlsx\"\n",
    "\n",
    "#change for every new census district\n",
    "census_data_path = r\"C:\\Users\\Madhavan\\Dropbox\\electoral_rolls_matching\\up_directory\\district\\Pratapgarh.csv\""
   ]
  },
  {
   "cell_type": "markdown",
   "metadata": {},
   "source": [
    "#### Reading Datafiles - Census Data and Form 20 Data"
   ]
  },
  {
   "cell_type": "code",
   "execution_count": 3,
   "metadata": {},
   "outputs": [
    {
     "name": "stderr",
     "output_type": "stream",
     "text": [
      "C:\\ProgramData\\Anaconda3\\lib\\site-packages\\IPython\\core\\interactiveshell.py:3058: DtypeWarning: Columns (242,305,371,372,374,375,377,378) have mixed types.Specify dtype option on import or set low_memory=False.\n",
      "  interactivity=interactivity, compiler=compiler, result=result)\n"
     ]
    }
   ],
   "source": [
    "census = pd.read_csv(census_data_path)\n",
    "electoral_roll_names_hin = pd.read_excel(electoral_roll_names_hin_path)"
   ]
  },
  {
   "cell_type": "code",
   "execution_count": 4,
   "metadata": {
    "scrolled": true
   },
   "outputs": [
    {
     "name": "stdout",
     "output_type": "stream",
     "text": [
      "ऊन\n",
      "काँधला\n",
      "कैराना\n"
     ]
    }
   ],
   "source": [
    "hindi_village_names_by_block = None\n",
    "grouped = electoral_roll_names_hin.groupby('block')\n",
    "for name, group in grouped:\n",
    "    print(name)\n",
    "    if(name == block):\n",
    "        hindi_village_names_by_block = group.reset_index(drop = True)\n",
    "        print(\"Using ocr data \" + name + ' block')"
   ]
  },
  {
   "cell_type": "markdown",
   "metadata": {},
   "source": [
    "#### Filtering the Census Data for only villages and towns"
   ]
  },
  {
   "cell_type": "code",
   "execution_count": 29,
   "metadata": {},
   "outputs": [],
   "source": [
    "# change subdistrict based on AC\n",
    "# census = census.dropna().reset_index(drop = True)\n",
    "census = census.where((census[\"CD Block Code\"] == block_no)).dropna(how = 'all').reset_index(drop = True)"
   ]
  },
  {
   "cell_type": "code",
   "execution_count": 30,
   "metadata": {},
   "outputs": [],
   "source": [
    "census_codes_to_names = {int(census['Village Code'][i]):census['Village Name'][i] for i in census.index}"
   ]
  },
  {
   "cell_type": "code",
   "execution_count": 31,
   "metadata": {},
   "outputs": [
    {
     "name": "stdout",
     "output_type": "stream",
     "text": [
      "Number of Entries in Census Data: 125\n",
      "Number of Unique Village Names in Census Data: 124\n"
     ]
    }
   ],
   "source": [
    "print('Number of Entries in Census Data:',len(census))\n",
    "print('Number of Unique Village Names in Census Data:',len(set(census['Village Name'])))"
   ]
  },
  {
   "cell_type": "markdown",
   "metadata": {},
   "source": [
    "### Transliterate Hindi names to English using OPTITRANS scheme and then transliterating from OPTITRANS to lay indian"
   ]
  },
  {
   "cell_type": "code",
   "execution_count": 32,
   "metadata": {
    "scrolled": true
   },
   "outputs": [
    {
     "name": "stdout",
     "output_type": "stream",
     "text": [
      "mahotharI\n",
      "rAjApura devApaTaTI\n",
      "chaubepaTTI\n",
      "gokulA\n",
      "muAraadhAragaMja\n",
      "muAraadhAragaMja\n",
      "muAraadhAragaMja\n",
      "pUrerAmasahAya\n",
      "kaulApura nandapaTaTI\n",
      "kaulApura nandapaTaTI\n",
      "bhAnapura dasiyA\n",
      "narasiMhagaDha\n",
      "bhAnapura dasiyA\n",
      "shAhapura AMsika\n",
      "shAhapura\n",
      "shAhapura AMsika\n",
      "shAhapura\n",
      "shAhapura AMsika\n",
      "shAhapura\n",
      "nidhIpaTTI\n",
      "saMDilA\n",
      "devagaDha़kamAsina\n",
      "devagaDha़kamAsina\n",
      "bhUsalapura\n",
      "saMDilA\n",
      "saMDilA\n",
      "bAbUpaTaTI\n",
      "sarAyasetarAya\n",
      "mathurA\n",
      "pUre bhaIyA jI\n",
      "vishambharapura\n",
      "sigAMhI\n",
      "AmApura bera\n",
      "AmApura bera\n",
      "AmApura bera\n",
      "AmApura bera\n",
      "sarAya sultAnI\n",
      "sarAya sultAnI\n",
      "barahadA\n",
      "khushahAlagaDha\n",
      "rAIpura\n",
      "phatehapura\n",
      "mIrapura\n",
      "koDaraDIha\n",
      "thariyA\n",
      "thariyA\n",
      "kaulApura\n",
      "dhanuhAM Ashika\n",
      "dhanuhA\n",
      "dhanuhAM Ashika\n",
      "dhanuhA\n",
      "pUrebasahU\n",
      "narI\n",
      "shekhUpura\n",
      "shekhUpura\n",
      "lapakana\n",
      "rAmanagara\n",
      "rAmanagara\n",
      "saramAnapura\n",
      "TikaitA\n",
      "risAlagaDha\n",
      "atarI\n",
      "sujahA\n",
      "jAjApura\n",
      "damadama\n",
      "damadama\n",
      "DighavaTa\n",
      "DighavaTa\n",
      "khAkhApura\n",
      "khAkhApura\n",
      "borrA\n",
      "borrA\n",
      "sultAnapura\n",
      "sultAnapura\n",
      "sultAnapura\n",
      "bhavAnIgaDha़\n",
      "biraIpura\n",
      "rAmApura\n",
      "rAmApura\n",
      "rAmApura\n",
      "rAmApura\n",
      "raheTuA parasarAmapura\n",
      "raheTuA parasarAmapura\n",
      "parasAmaU\n",
      "amaraI\n",
      "amarapura\n",
      "chAMdapura\n",
      "chaॉdapura\n",
      "nirbhayapaTaTI\n",
      "basantapaTaTI\n",
      "paDha़vA\n",
      "nasIrapura\n",
      "koTharA\n",
      "silaughadhI\n",
      "silaughadhI\n",
      "pUretulA\n",
      "pUre ghanashyAma\n",
      "silaughadhI\n",
      "paTahaTiyA khurda\n",
      "koyama\n",
      "sADa\n",
      "sAMDha\n",
      "karTidrA\n",
      "sADa\n",
      "sAMDha\n",
      "narAyanapura khurda\n",
      "basirahA\n",
      "tAraDIha\n",
      "kailIDIha\n",
      "kailIDIha\n",
      "harapurasaudhaM\n",
      "jagatapura\n",
      "jagatapura\n",
      "AshApura\n",
      "mahamadapura\n",
      "pAlI\n",
      "mahamadapura\n",
      "rohakhurda kalA\n",
      "rohakhurda kalA\n",
      "nauDerA\n",
      "nauDerA\n",
      "nauDerA\n",
      "nauDerA\n",
      "nauDerA\n",
      "nauDerA\n",
      "nauDerA\n",
      "paTahaTiyA kalA\n",
      "paTahaTiyA kalA\n",
      "masaulI\n",
      "masaulI\n",
      "gaurApUrebadala\n",
      "gaurApUrebadala\n",
      "gaurApUrebadala\n",
      "behadaula kalA\n",
      "behadaula kalA\n",
      "behadaula khurda\n",
      "behadaula khurda\n",
      "kahalA\n",
      "bhujainI\n",
      "meDuADIha\n",
      "meDuADIha\n",
      "suravAmishrapura\n",
      "suravAmishrapura\n",
      "suravAmishrapura\n",
      "suravAmishrapura\n",
      "pUrekharagarAya\n",
      "pUrekharagarAya\n",
      "shivagaDhA\n",
      "karakA\n",
      "karakA\n",
      "bairamapura\n",
      "bairamapura\n",
      "suvaMsA\n",
      "dharI\n",
      "pUregosAI\n",
      "pUregosAI\n",
      "naIkoTa\n",
      "naIkoTa\n",
      "kalImurAdapura\n",
      "kalImurAdapura\n",
      "kalImurAdapura\n",
      "bhITa\n",
      "bhITa\n",
      "kanevarA pUrekhushahAlI\n",
      "kanevarA pUrekhushahAlI\n",
      "pUre pAMNDeya\n",
      "narAyanapura kalA\n",
      "narAyanapura kalA\n",
      "kamAsina\n",
      "narAyanapura kalA\n",
      "kataraulI\n",
      "kataraulI\n"
     ]
    }
   ],
   "source": [
    "#transliterate hindi name from electoral rolls to english and save along with the polling station number(s) in a dict\n",
    "\n",
    "transliterated_names_to_ps_id = OrderedDict()\n",
    "for i in hindi_village_names_by_block.index:\n",
    "    only_main = -1\n",
    "    if pd.isna(hindi_village_names_by_block[\"processed\"][i]):\n",
    "        eng = transliterate(hindi_village_names_by_block[\"mukhya_village\"][i], sanscript.DEVANAGARI, sanscript.OPTITRANS)\n",
    "        only_main = 1\n",
    "    elif hindi_village_names_by_block[\"processed\"][i] == \"(ignore)\":\n",
    "        eng = transliterate(hindi_village_names_by_block[\"mukhya_village\"][i], sanscript.DEVANAGARI, sanscript.OPTITRANS)\n",
    "        only_main = 2\n",
    "    elif hindi_village_names_by_block[\"processed\"][i] == \"failure\":\n",
    "        eng = \"chief_village_fail\"\n",
    "        only_main = 1\n",
    "    else:\n",
    "        eng = transliterate(hindi_village_names_by_block[\"processed\"][i], sanscript.DEVANAGARI, sanscript.OPTITRANS)\n",
    "        only_main = 0\n",
    "    these_ps_ids = transliterated_names_to_ps_id.get((eng, only_main), -1)\n",
    "    if these_ps_ids == -1:\n",
    "        transliterated_names_to_ps_id[(eng, only_main)] = [hindi_village_names_by_block[\"ps_id\"][i]]\n",
    "    elif hindi_village_names_by_block[\"ps_id\"][i] not in these_ps_ids:\n",
    "        transliterated_names_to_ps_id[(eng, only_main)].append(hindi_village_names_by_block[\"ps_id\"][i])\n",
    "    print(eng)"
   ]
  },
  {
   "cell_type": "markdown",
   "metadata": {},
   "source": [
    "#### create a list of 5 lists where each sublist contains the kth best match for each transliterated village name."
   ]
  },
  {
   "cell_type": "code",
   "execution_count": 33,
   "metadata": {},
   "outputs": [],
   "source": [
    "all_matches = [[], []\n",
    "               , [], [], []]\n",
    "all_codes = [[], [], [], [], []]\n",
    "for name, num in transliterated_names_to_ps_id.keys():\n",
    "    matches = process.extract(name, census_codes_to_names)\n",
    "    for i in range(0, len(all_matches)):\n",
    "        all_matches[i].append(matches[i][0])\n",
    "        all_codes[i].append(matches[i][2])"
   ]
  },
  {
   "cell_type": "markdown",
   "metadata": {},
   "source": [
    "#### Create an excel file with transliterated village name and top 5 matches with the last column 'correct_match_number' to be manually filled"
   ]
  },
  {
   "cell_type": "code",
   "execution_count": 34,
   "metadata": {},
   "outputs": [],
   "source": [
    "transliterated_names = [] \n",
    "bools = []\n",
    "for name, boolean in transliterated_names_to_ps_id.keys():\n",
    "    transliterated_names.append(name)\n",
    "    bools.append(boolean)\n",
    "allMatchesDf = pd.DataFrame({\"transliterated_village_name\": transliterated_names,\n",
    "                             \"ps_id\": list(transliterated_names_to_ps_id.values()),\n",
    "                             \"match 1\": all_matches[0], \n",
    "                             \"match 2\": all_matches[1], \n",
    "                             \"match 3\": all_matches[2],\n",
    "                             \"match 4\": all_matches[3],\n",
    "                             \"match 5\": all_matches[4]\n",
    "                            })\n",
    "correct_match_numbers = []\n",
    "for name in transliterated_names:\n",
    "    correct_match_numbers.append(0)\n",
    "    \n",
    "allMatchesDf['correct_match_number'] = correct_match_numbers\n",
    "allMatchesDf['code 1'] = all_codes[0]\n",
    "allMatchesDf['code 2'] = all_codes[1]\n",
    "allMatchesDf['code 3'] = all_codes[2]\n",
    "allMatchesDf['code 4'] = all_codes[3]\n",
    "allMatchesDf['code 5'] = all_codes[4]\n",
    "allMatchesDf['only_main'] = bools\n",
    "allMatchesDf.to_excel(all_matches_path)"
   ]
  },
  {
   "cell_type": "code",
   "execution_count": null,
   "metadata": {},
   "outputs": [],
   "source": []
  },
  {
   "cell_type": "code",
   "execution_count": null,
   "metadata": {},
   "outputs": [],
   "source": []
  },
  {
   "cell_type": "code",
   "execution_count": null,
   "metadata": {},
   "outputs": [],
   "source": []
  },
  {
   "cell_type": "code",
   "execution_count": null,
   "metadata": {},
   "outputs": [],
   "source": []
  },
  {
   "cell_type": "code",
   "execution_count": null,
   "metadata": {},
   "outputs": [],
   "source": []
  },
  {
   "cell_type": "code",
   "execution_count": null,
   "metadata": {},
   "outputs": [],
   "source": []
  },
  {
   "cell_type": "code",
   "execution_count": null,
   "metadata": {},
   "outputs": [],
   "source": []
  },
  {
   "cell_type": "code",
   "execution_count": null,
   "metadata": {},
   "outputs": [],
   "source": []
  },
  {
   "cell_type": "code",
   "execution_count": null,
   "metadata": {},
   "outputs": [],
   "source": []
  }
 ],
 "metadata": {
  "kernelspec": {
   "display_name": "Python 3",
   "language": "python",
   "name": "python3"
  },
  "language_info": {
   "codemirror_mode": {
    "name": "ipython",
    "version": 3
   },
   "file_extension": ".py",
   "mimetype": "text/x-python",
   "name": "python",
   "nbconvert_exporter": "python",
   "pygments_lexer": "ipython3",
   "version": "3.8.8"
  }
 },
 "nbformat": 4,
 "nbformat_minor": 4
}
