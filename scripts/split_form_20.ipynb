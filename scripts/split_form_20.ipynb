{
 "cells": [
  {
   "cell_type": "code",
   "execution_count": 2,
   "metadata": {},
   "outputs": [],
   "source": [
    "import pandas as pd\n",
    "import os"
   ]
  },
  {
   "cell_type": "code",
   "execution_count": 4,
   "metadata": {},
   "outputs": [
    {
     "name": "stdout",
     "output_type": "stream",
     "text": [
      "UP1.csv\n",
      "UP10.csv\n",
      "UP11.csv\n",
      "UP12.csv\n",
      "UP13.csv\n",
      "UP14.csv\n",
      "UP15.csv\n",
      "UP16.csv\n",
      "UP17.csv\n",
      "UP18.csv\n",
      "UP19.csv\n",
      "UP2.csv\n",
      "UP20.csv\n",
      "UP21.csv\n",
      "UP22.csv\n",
      "UP23.csv\n",
      "UP24.csv\n",
      "UP25.csv\n",
      "UP26.csv\n",
      "UP27.csv\n",
      "UP28.csv\n",
      "UP29-1.csv\n",
      "UP29.csv\n",
      "UP3.csv\n",
      "UP30.csv\n",
      "UP31.csv\n",
      "UP32.csv\n",
      "UP33.csv\n",
      "UP34.csv\n",
      "UP35.csv\n",
      "UP36.csv\n",
      "UP38.csv\n",
      "UP39.csv\n",
      "UP4.csv\n",
      "UP40.csv\n",
      "UP41.csv\n",
      "UP42.csv\n",
      "UP43.csv\n",
      "UP44.csv\n",
      "UP45.csv\n",
      "UP46.csv\n",
      "UP47.csv\n",
      "UP48.csv\n",
      "UP49.csv\n",
      "UP50.csv\n",
      "UP51.csv\n",
      "UP52.csv\n",
      "UP53.csv\n",
      "UP54.csv\n",
      "UP55.csv\n",
      "UP56.csv\n",
      "UP57.csv\n",
      "UP58.csv\n",
      "UP59.csv\n",
      "UP6.csv\n",
      "UP60.csv\n",
      "UP61.csv\n",
      "UP62.csv\n",
      "UP63.csv\n",
      "UP65.csv\n",
      "UP66.csv\n",
      "UP67-1.csv\n",
      "UP67.csv\n",
      "UP70.csv\n",
      "UP71.csv\n",
      "UP72.csv\n",
      "UP73.csv\n",
      "UP74.csv\n",
      "UP75.csv\n",
      "UP76.csv\n",
      "UP77.csv\n",
      "UP78.csv\n",
      "UP79.csv\n",
      "UP8.csv\n",
      "UP80.csv\n",
      "UP9.csv\n"
     ]
    }
   ],
   "source": [
    "thisdir = r\"C:\\Users\\Madhavan\\Dropbox\\electoral_rolls_matching\\up_form_20\"\n",
    "thatdir = r\"C:\\Users\\Madhavan\\Dropbox\\electoral_rolls_matching\\up_form_20_by_ac\"\n",
    "os.chdir(thisdir)\n",
    "for csv in os.listdir():\n",
    "    print(csv)\n",
    "    pcDf = pd.read_csv(csv)\n",
    "    grouped = pcDf.groupby(\"ac_id\")\n",
    "    for name, group in grouped:\n",
    "        group = group.reset_index(drop = True)\n",
    "        group.to_csv(path_or_buf = thatdir + \"\\\\\" + str(group[\"pc_id\"][0]) + \"_\" + str(group[\"ac_id\"][0]) + \".csv\", \n",
    "                     index = False)\n",
    "    "
   ]
  },
  {
   "cell_type": "code",
   "execution_count": null,
   "metadata": {},
   "outputs": [],
   "source": []
  },
  {
   "cell_type": "code",
   "execution_count": null,
   "metadata": {},
   "outputs": [],
   "source": []
  },
  {
   "cell_type": "code",
   "execution_count": null,
   "metadata": {},
   "outputs": [],
   "source": []
  }
 ],
 "metadata": {
  "kernelspec": {
   "display_name": "Python 3",
   "language": "python",
   "name": "python3"
  },
  "language_info": {
   "codemirror_mode": {
    "name": "ipython",
    "version": 3
   },
   "file_extension": ".py",
   "mimetype": "text/x-python",
   "name": "python",
   "nbconvert_exporter": "python",
   "pygments_lexer": "ipython3",
   "version": "3.7.4"
  }
 },
 "nbformat": 4,
 "nbformat_minor": 2
}
