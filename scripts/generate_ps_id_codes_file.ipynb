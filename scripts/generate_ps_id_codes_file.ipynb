{
 "cells": [
  {
   "cell_type": "code",
   "execution_count": 4,
   "metadata": {},
   "outputs": [],
   "source": [
    "import os\n",
    "import pandas as pd\n",
    "from collections import OrderedDict"
   ]
  },
  {
   "cell_type": "code",
   "execution_count": 5,
   "metadata": {},
   "outputs": [],
   "source": [
    "os.chdir(r\"C:\\users\\madhavan\\dropbox\\electoral_rolls_matching\\up_matchfiles\\include_left\\completed\\finished\")"
   ]
  },
  {
   "cell_type": "code",
   "execution_count": 6,
   "metadata": {},
   "outputs": [],
   "source": [
    "for file in os.listdir():\n",
    "    if not file.split(\".\")[-1] in [\"xls\", \"xlsx\"]:\n",
    "        continue\n",
    "    df_old = pd.read_excel(file)\n",
    "    Dict = OrderedDict()\n",
    "    for i in df_old.index:\n",
    "        num = \"\"\n",
    "        for c in df_old[\"ps_id\"][i]:    \n",
    "            if c.isnumeric():\n",
    "                num += c\n",
    "            elif not num == \"\":\n",
    "                ps_id = (int(num))\n",
    "                if df_old[\"correct_match_number\"][i] != 0:\n",
    "                    try:\n",
    "                        code = df_old[\"code \" + str(df_old[\"correct_match_number\"][i])][i]\n",
    "                    except:\n",
    "                        raise Exception(file)\n",
    "                    Dict[(ps_id, code)] = True\n",
    "                else:\n",
    "                    Dict[(ps_id, \"unmatched entities\")] = True\n",
    "                num = \"\"\n",
    "    df_new = pd.DataFrame()\n",
    "    ps_ids = []\n",
    "    codes = []\n",
    "    for ps, village_code in Dict.keys():\n",
    "        ps_ids.append(ps)\n",
    "        codes.append(village_code)\n",
    "    df_new[\"ps_id\"] = ps_ids\n",
    "    df_new[\"code\"] = codes\n",
    "    df_new = df_new.sort_values(\"ps_id\")\n",
    "    ofilename = file.split(\".\")[0].split(\"all_matches_\")[1] + \".xlsx\"\n",
    "    df_new.to_excel(\"codes\\\\\" + ofilename, index = False)"
   ]
  },
  {
   "cell_type": "code",
   "execution_count": null,
   "metadata": {},
   "outputs": [],
   "source": []
  }
 ],
 "metadata": {
  "kernelspec": {
   "display_name": "Python 3",
   "language": "python",
   "name": "python3"
  },
  "language_info": {
   "codemirror_mode": {
    "name": "ipython",
    "version": 3
   },
   "file_extension": ".py",
   "mimetype": "text/x-python",
   "name": "python",
   "nbconvert_exporter": "python",
   "pygments_lexer": "ipython3",
   "version": "3.8.8"
  }
 },
 "nbformat": 4,
 "nbformat_minor": 2
}
