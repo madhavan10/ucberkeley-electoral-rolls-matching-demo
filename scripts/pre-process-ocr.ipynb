{
 "cells": [
  {
   "cell_type": "code",
   "execution_count": 1,
   "metadata": {},
   "outputs": [
    {
     "name": "stderr",
     "output_type": "stream",
     "text": [
      "C:\\Users\\Naren\\anaconda3\\lib\\site-packages\\fuzzywuzzy\\fuzz.py:11: UserWarning: Using slow pure-python SequenceMatcher. Install python-Levenshtein to remove this warning\n",
      "  warnings.warn('Using slow pure-python SequenceMatcher. Install python-Levenshtein to remove this warning')\n"
     ]
    }
   ],
   "source": [
    "import os\n",
    "import pandas as pd\n",
    "from fuzzywuzzy import fuzz\n",
    "from indic_transliteration import sanscript\n",
    "from indic_transliteration.sanscript import SchemeMap, SCHEMES, transliterate"
   ]
  },
  {
   "cell_type": "code",
   "execution_count": 141,
   "metadata": {},
   "outputs": [],
   "source": [
    "input_path = r\"C:\\Users\\Naren\\Dropbox\\electoral_rolls_matching\\up_ocr\\include_left\\66_3.xls\"\n",
    "output_directory = r\"C:\\Users\\Naren\\Dropbox\\electoral_rolls_matching\\up_ocr\\include_left\\processed\"\n",
    "\n",
    "filename = input_path.rsplit(os.sep)[-1]\n",
    "output_path = os.path.join(output_directory, filename)"
   ]
  },
  {
   "cell_type": "code",
   "execution_count": 142,
   "metadata": {},
   "outputs": [],
   "source": [
    "ocr = pd.read_excel(input_path)"
   ]
  },
  {
   "cell_type": "markdown",
   "metadata": {},
   "source": [
    "### create a new column in ocr spreadsheet called \"processed\" which is blank if ocr failed on left side of image, says to ignore the village on the left and use mukhya village if the two match closely, and is the same as the left side name otherwise (stripped of non-letter symbols)"
   ]
  },
  {
   "cell_type": "code",
   "execution_count": 143,
   "metadata": {},
   "outputs": [],
   "source": [
    "column = []\n",
    "for i in ocr.index:\n",
    "    if pd.isna(ocr[\"Name_Cleaned_Hin\"][i]):\n",
    "        if pd.isna(ocr[\"mukhya_village\"][i]):\n",
    "            column.append(\"failure\")\n",
    "        else:\n",
    "            column.append(\"\")\n",
    "        continue\n",
    "    stripped = ocr[\"Name_Cleaned_Hin\"][i].rstrip(\" +-1234567890१२३४५६७८९|\\\"\")\n",
    "    if stripped.endswith(\"आंशिक\"):\n",
    "        stripped = stripped.rsplit(\"आंशिक\", maxsplit = 1)[0]\n",
    "    if stripped.endswith(\"अंश\"):\n",
    "        stripped = stripped.rsplit(\"अंश\", maxsplit = 1)[0]\n",
    "    stripped = stripped.rstrip(\" +-1234567890१२३४५६७८९|\\\"\")\n",
    "    if pd.isna(ocr[\"mukhya_village\"][i]):\n",
    "        column.append(stripped)\n",
    "        continue\n",
    "    t_left = transliterate(stripped, sanscript.DEVANAGARI, sanscript.OPTITRANS)\n",
    "    t_right = transliterate(ocr[\"mukhya_village\"][i], sanscript.DEVANAGARI, sanscript.OPTITRANS)\n",
    "    if fuzz.ratio(t_left, t_right) > 80:\n",
    "        column.append(\"(ignore)\")\n",
    "    else:\n",
    "        column.append(stripped)\n",
    "ocr[\"processed\"] = column"
   ]
  },
  {
   "cell_type": "markdown",
   "metadata": {},
   "source": [
    "## go through the dataframe thus generated and create a new row with mukhya gaon for every image where the mukhya gaon is not found to exist in the left-side list"
   ]
  },
  {
   "cell_type": "code",
   "execution_count": 144,
   "metadata": {},
   "outputs": [],
   "source": [
    "k = ocr[\"ps_id\"][0]\n",
    "foundMain = False\n",
    "rows = []\n",
    "for i in ocr.index:\n",
    "    if k != ocr[\"ps_id\"][i]: #ps_id change\n",
    "        if not foundMain and not pd.isna(mukhya_gaon): \n",
    "            new_row = pd.DataFrame({\"ps_id\":k, \n",
    "                                    \"Name_Cleaned_Hin\":'', \n",
    "                                    \"mukhya_village\":mukhya_gaon, \n",
    "                                    \"block\":block, \n",
    "                                    \"tehsil\":tehsil, \n",
    "                                    \"processed\":'(ignore)'}, index = [i])\n",
    "            rows.append(new_row)\n",
    "        foundMain = False\n",
    "    k = ocr[\"ps_id\"][i]\n",
    "    mukhya_gaon = ocr[\"mukhya_village\"][i]\n",
    "    block = ocr[\"block\"][i]\n",
    "    tehsil = ocr[\"tehsil\"][i]\n",
    "        \n",
    "    if ocr[\"processed\"][i] == \"(ignore)\" or pd.isna(ocr[\"Name_Cleaned_Hin\"][i]):\n",
    "        foundMain = True\n",
    "last = len(ocr) - 1\n",
    "if not foundMain and not pd.isna(ocr[\"mukhya_village\"][last]):\n",
    "    new_row = pd.DataFrame({\"ps_id\":ocr[\"ps_id\"][last], \n",
    "                            \"Name_Cleaned_Hin\":'', \n",
    "                            \"mukhya_village\":ocr[\"mukhya_village\"][last], \n",
    "                            \"block\":ocr[\"block\"][last], \n",
    "                            \"tehsil\":ocr[\"tehsil\"][last], \n",
    "                            \"processed\":'(ignore)'}, index = [last])\n",
    "    rows.append(new_row)"
   ]
  },
  {
   "cell_type": "markdown",
   "metadata": {},
   "source": [
    "## insert the rows into a dataframe"
   ]
  },
  {
   "cell_type": "code",
   "execution_count": 145,
   "metadata": {},
   "outputs": [],
   "source": [
    "offset = 0\n",
    "new_df = ocr\n",
    "for row in rows:\n",
    "    new_df = pd.concat([new_df.iloc[:row.index[0] + offset], row, new_df[row.index[0] + offset:]]).reset_index(drop = True)\n",
    "    offset += 1"
   ]
  },
  {
   "cell_type": "markdown",
   "metadata": {},
   "source": [
    "## save to excel"
   ]
  },
  {
   "cell_type": "code",
   "execution_count": 146,
   "metadata": {},
   "outputs": [],
   "source": [
    "new_df.to_excel(output_path, index = False)"
   ]
  },
  {
   "cell_type": "code",
   "execution_count": null,
   "metadata": {},
   "outputs": [],
   "source": []
  },
  {
   "cell_type": "code",
   "execution_count": null,
   "metadata": {},
   "outputs": [],
   "source": []
  },
  {
   "cell_type": "code",
   "execution_count": null,
   "metadata": {},
   "outputs": [],
   "source": []
  },
  {
   "cell_type": "code",
   "execution_count": null,
   "metadata": {},
   "outputs": [],
   "source": []
  }
 ],
 "metadata": {
  "kernelspec": {
   "display_name": "Python 3 (ipykernel)",
   "language": "python",
   "name": "python3"
  },
  "language_info": {
   "codemirror_mode": {
    "name": "ipython",
    "version": 3
   },
   "file_extension": ".py",
   "mimetype": "text/x-python",
   "name": "python",
   "nbconvert_exporter": "python",
   "pygments_lexer": "ipython3",
   "version": "3.11.7"
  }
 },
 "nbformat": 4,
 "nbformat_minor": 4
}
