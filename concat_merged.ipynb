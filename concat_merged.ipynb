{
 "cells": [
  {
   "cell_type": "code",
   "execution_count": 1,
   "metadata": {},
   "outputs": [],
   "source": [
    "import pandas as pd\n",
    "from tkinter import *\n",
    "from tkinter import filedialog"
   ]
  },
  {
   "cell_type": "code",
   "execution_count": 2,
   "metadata": {},
   "outputs": [
    {
     "data": {
      "text/plain": [
       "''"
      ]
     },
     "execution_count": 2,
     "metadata": {},
     "output_type": "execute_result"
    }
   ],
   "source": [
    "root = Tk()\n",
    "root.withdraw()"
   ]
  },
  {
   "cell_type": "markdown",
   "metadata": {},
   "source": [
    "### Paths to input and output spreadsheets"
   ]
  },
  {
   "cell_type": "code",
   "execution_count": 15,
   "metadata": {
    "scrolled": true
   },
   "outputs": [
    {
     "name": "stdout",
     "output_type": "stream",
     "text": [
      "C:/Users/Madhavan/Dropbox/electoral_rolls_matching/up_merged/include_left/75_4_arajiline.xlsx\n",
      "C:/Users/Madhavan/Dropbox/electoral_rolls_matching/up_merged/include_left/75_4_sevapuri.xlsx\n",
      "concat to: C:/Users/Madhavan/Dropbox/electoral_rolls_matching/up_merged/include_left/75_4.xlsx\n"
     ]
    }
   ],
   "source": [
    "df_paths = filedialog.askopenfilenames(title = 'select files to concat', filetypes = [(\"excel\", \"*.xlsx\")])\n",
    "for s in df_paths:\n",
    "    print(s)\n",
    "\n",
    "merged_path = df_paths[0].rsplit('_', maxsplit = 1)[0] + \".xlsx\"\n",
    "print(\"concat to: \" + merged_path)"
   ]
  },
  {
   "cell_type": "markdown",
   "metadata": {},
   "source": [
    "### Concat and Sort by polling station no."
   ]
  },
  {
   "cell_type": "code",
   "execution_count": 16,
   "metadata": {},
   "outputs": [],
   "source": [
    "dfs = []\n",
    "for path in df_paths:\n",
    "    dfs.append(pd.read_excel(path))\n",
    "\n",
    "mergedDf = pd.concat(dfs, ignore_index = True)\n",
    "mergedDf = mergedDf.sort_values('ps_id')"
   ]
  },
  {
   "cell_type": "markdown",
   "metadata": {},
   "source": [
    "### Save"
   ]
  },
  {
   "cell_type": "code",
   "execution_count": 17,
   "metadata": {},
   "outputs": [],
   "source": [
    "mergedDf.to_excel(merged_path, index = False)"
   ]
  },
  {
   "cell_type": "code",
   "execution_count": null,
   "metadata": {},
   "outputs": [],
   "source": []
  },
  {
   "cell_type": "code",
   "execution_count": null,
   "metadata": {},
   "outputs": [],
   "source": []
  }
 ],
 "metadata": {
  "kernelspec": {
   "display_name": "Python 3",
   "language": "python",
   "name": "python3"
  },
  "language_info": {
   "codemirror_mode": {
    "name": "ipython",
    "version": 3
   },
   "file_extension": ".py",
   "mimetype": "text/x-python",
   "name": "python",
   "nbconvert_exporter": "python",
   "pygments_lexer": "ipython3",
   "version": "3.7.4"
  }
 },
 "nbformat": 4,
 "nbformat_minor": 2
}
