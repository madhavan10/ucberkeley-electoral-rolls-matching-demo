{
 "cells": [
  {
   "cell_type": "code",
   "execution_count": 2,
   "metadata": {},
   "outputs": [],
   "source": [
    "from PIL import Image \n",
    "import pytesseract \n",
    "import sys\n",
    "import os \n",
    "import pandas as pd\n",
    "import numpy as np"
   ]
  },
  {
   "cell_type": "markdown",
   "metadata": {},
   "source": [
    "## Set directory paths"
   ]
  },
  {
   "cell_type": "markdown",
   "metadata": {},
   "source": [
    "#### One-time setup"
   ]
  },
  {
   "cell_type": "code",
   "execution_count": 3,
   "metadata": {},
   "outputs": [],
   "source": [
    "#one-time setup\n",
    "tesseract_path = r'C:\\Program Files\\Tesseract-OCR\\tesseract'"
   ]
  },
  {
   "cell_type": "markdown",
   "metadata": {},
   "source": [
    "#### Change per AC"
   ]
  },
  {
   "cell_type": "code",
   "execution_count": null,
   "metadata": {},
   "outputs": [],
   "source": []
  },
  {
   "cell_type": "code",
   "execution_count": 64,
   "metadata": {},
   "outputs": [],
   "source": [
    "#set path to pdfs for this AC (should be in a separate directory)\n",
    "electoral_rolls_path = r\"C:\\Users\\Naren\\Desktop\\New folder (3)\\New folder\\66_3\"\n",
    "#set blank directory for image files converted from pdfs (done automatically)\n",
    "electoral_roll_images_path = electoral_rolls_path + '_images'\n",
    "if not os.path.isdir(electoral_roll_images_path) and os.path.isdir(electoral_rolls_path):\n",
    "    os.mkdir(electoral_roll_images_path)\n",
    "#set path for spreadsheet of village names picked up by OCR (automatically name by AC)\n",
    "root_dir = r\"C:\\Users\\Naren\\Dropbox\\electoral_rolls_matching\\up_ocr\\include_left\\raw\"\n",
    "electoral_roll_names_hin_path = os.path.join(root_dir, electoral_rolls_path.split(os.sep)[-1] + \".xls\")"
   ]
  },
  {
   "cell_type": "markdown",
   "metadata": {},
   "source": [
    "## Convert 1st page of PDFs to JPG"
   ]
  },
  {
   "cell_type": "markdown",
   "metadata": {},
   "source": [
    "## OCR to get hindi names of village and tehsil and block"
   ]
  },
  {
   "cell_type": "code",
   "execution_count": 65,
   "metadata": {
    "scrolled": false
   },
   "outputs": [
    {
     "name": "stdout",
     "output_type": "stream",
     "text": [
      "1 2 3 4 5 6 7 8 9 10 11 12 13 14 15 16 17 18 19 20 21 22 23 24 25 26 27 28 29 30 31 32 33 34 35 36 37 38 39 40 41 42 43 44 45 46 47 48 49 50 51 52 53 54 55 56 57 58 59 60 61 62 63 64 65 66 67 68 69 70 71 72 73 74 75 76 77 78 79 80 81 82 83 84 85 86 87 88 89 90 91? 92? 93 94 95 96 97 98 99 100 101 102 103 104 105 106 107 108 109 110 111 112 113 114 115 116 117 118 119 120 121 122 123 124 125 126 127 128 129 130 131 132 133 134 135 136 137 138 139 140 141 142 143 144 145 146 147 148 149 150 151 152 153 154 155 156 157 158 159 160 161 162 163 164 165 166 167 168 169 170 171 172 173 174 175 176 177 178 179 180 181 182 183 184 185 186 187 188 189 190 191 192 193 194 195 196 197 198 199 200 201 202 203 204 205 206 207 208 209 210 211 212 213 214 215 216 217 218 219 220 221 222 223 224 225 226 227 228 229 230 231 232 233 234 235 236 237 238 239 240 241 242 243 244 245 246 247 248 249 250 251 252 253 254 255 256 257 258 259 260 261 262 263 264 265 266 267 268 269 270 271 272 273? 274? 275? 276? 277? 278? 279? 280? 281? 282? 283? 284? 285? 286? 287? 288? 289? 290? 291? 292? 293? 294 295 296 297 298 299 300 301 302 303 304 305 306 307 308 309 310 311 312 313 314 315? 316 317 318 319 320 321 322 323 324 325 326 327? 328? 329 330 331 332 333 334 335 336 337 338 339 340 341 342 343 344 345 346 347 348 349 350 351? 352 353 354 355 356 357 358 359 360 361 362 363 364 365 366 367 368 369 370 371 372 373 374 375 376 377 378 379 380 381 382 383 384 385 386 387 388 389 390 391 392 393 394 395 396 397 398 399 400 401 402 403 404 405 406 407 408 409 410 411 412 413 414 415 416 417 418 419 420 421 422 423 424 425 426 427 428 429 430 431 432 433 434 435 436 437 438 439 440 441 442 443 444 445 446 447 448 449 450 451 452 453 454 455 456 457 458 459 460 461 462 463 464 465 466 467 468 469 470 471 472 473 474 475 476 477 478 479 480 481 482 483 484 485 486 487 488 489 490 491 492 493 494 495 496 497 498 499 500 501 502 503 504 505 506 "
     ]
    }
   ],
   "source": [
    "os.chdir(electoral_roll_images_path)\n",
    "pytesseract.pytesseract.tesseract_cmd = tesseract_path\n",
    "\n",
    "chief_village_names_hin = []\n",
    "village_names_hin = []\n",
    "tehsil_names_hin = []\n",
    "block_names_hin = []\n",
    "village_id_nos = []\n",
    "\n",
    "textList = []\n",
    "\n",
    "i = 1\n",
    "length = len(os.listdir(electoral_roll_images_path))\n",
    "while i <  length + 1:\n",
    "    filename = str(i) + '.jpg'\n",
    "    if not os.path.isfile(os.path.join(electoral_roll_images_path, filename)):\n",
    "        length += 1\n",
    "        i += 1\n",
    "        continue\n",
    "    print(i, end = \"\")\n",
    "    im = Image.open(filename)\n",
    "    im_right = im.crop((2715, 1900, 3714, 2827))\n",
    "    im_left = im.crop((289, 1902, 1716, 3079))\n",
    "    right_text = str(pytesseract.image_to_string(im_right ,lang='hin')).split('\\n')\n",
    "    left_text = str(pytesseract.image_to_string(im_left ,lang='hin')).split('\\n')\n",
    "    \n",
    "    j = 0\n",
    "    while(j < len(right_text)):\n",
    "        if right_text[j] == '' or right_text[j] == '\\x0c':\n",
    "            right_text.pop(j)\n",
    "        else:\n",
    "            j += 1\n",
    "    j = 0\n",
    "    while(j < len(left_text)):\n",
    "        if left_text[j] == '' or left_text[j] == '\\x0c':\n",
    "            left_text.pop(j)\n",
    "        else:\n",
    "            j += 1\n",
    "                \n",
    "    \n",
    "    #textList.append(text)\n",
    "        \n",
    "    if len(right_text) == 8:\n",
    "        #no error\n",
    "        if len(left_text) != 0:\n",
    "            for name in left_text:\n",
    "                chief_village_names_hin.append(right_text[0])\n",
    "                village_names_hin.append(name)\n",
    "                block_names_hin.append(right_text[2])\n",
    "                tehsil_names_hin.append(right_text[-4])\n",
    "                village_id_nos.append(i)\n",
    "        else:\n",
    "            village_names_hin.append('')\n",
    "            chief_village_names_hin.append(right_text[0])\n",
    "            block_names_hin.append(right_text[2])\n",
    "            tehsil_names_hin.append(right_text[-4])\n",
    "            village_id_nos.append(i)\n",
    "    elif len(right_text) > 0:\n",
    "        #possible error\n",
    "        if len(left_text) != 0:\n",
    "            for name in left_text:\n",
    "                village_names_hin.append(name)\n",
    "                chief_village_names_hin.append(right_text[0])\n",
    "                village_id_nos.append(i)\n",
    "                block_names_hin.append(\"block_ocr_failed\")\n",
    "                tehsil_names_hin.append(\"tehsil_ocr_failed\")\n",
    "        else:\n",
    "            village_names_hin.append('')\n",
    "            chief_village_names_hin.append(right_text[0])\n",
    "            block_names_hin.append(\"block_ocr_failed\")\n",
    "            tehsil_names_hin.append(\"tehsil_ocr_failed\")\n",
    "            village_id_nos.append(i)\n",
    "        print(\"?\", end = \"\")\n",
    "    else:\n",
    "        #mukhya village ocr fail\n",
    "        if len(left_text) != 0:\n",
    "            for name in left_text:\n",
    "                village_names_hin.append(name)\n",
    "                chief_village_names_hin.append(\"chief_village_ocr_failed\")\n",
    "                village_id_nos.append(i)\n",
    "                block_names_hin.append(\"block_ocr_failed\")\n",
    "                tehsil_names_hin.append(\"tehsil_ocr_failed\")\n",
    "        else:\n",
    "            chief_village_names_hin.append(\"chief_village_ocr_failed\")\n",
    "            village_names_hin.append(\"\")\n",
    "            village_id_nos.append(i)\n",
    "            block_names_hin.append(\"block_ocr_failed\")\n",
    "            tehsil_names_hin.append(\"tehsil_ocr_failed\")\n",
    "        print(\"!\", end = \"\")\n",
    "        \n",
    "    print(\" \", end = \"\")\n",
    "    i += 1"
   ]
  },
  {
   "cell_type": "markdown",
   "metadata": {},
   "source": [
    "#### Strip leading and trailing whitespace from village and tehsil and block names"
   ]
  },
  {
   "cell_type": "code",
   "execution_count": 66,
   "metadata": {},
   "outputs": [],
   "source": [
    "for i in range(0, len(village_names_hin)):\n",
    "    tehsil_names_hin[i] = tehsil_names_hin[i].strip()\n",
    "    block_names_hin[i] = block_names_hin[i].strip()\n",
    "    chief_village_names_hin[i] = chief_village_names_hin[i].strip()\n",
    "    village_names_hin[i] = village_names_hin[i].strip()\n"
   ]
  },
  {
   "cell_type": "markdown",
   "metadata": {},
   "source": [
    "## Convert list to dataframe with 5 columns: ps_id, village_name, chief_village_name, tehsil, block and save to excel"
   ]
  },
  {
   "cell_type": "code",
   "execution_count": 67,
   "metadata": {},
   "outputs": [],
   "source": [
    "#no need to run this if excel file with hindi names already exists\n",
    "electoral_roll_names_hin = pd.DataFrame({'Name_Cleaned_Hin':village_names_hin})\n",
    "electoral_roll_names_hin['mukhya_village'] = chief_village_names_hin\n",
    "electoral_roll_names_hin['tehsil'] = tehsil_names_hin\n",
    "electoral_roll_names_hin['block'] = block_names_hin\n",
    "electoral_roll_names_hin['ps_id'] = village_id_nos\n",
    "#sort records by ps_id\n",
    "electoral_roll_names_hin = electoral_roll_names_hin.sort_values('ps_id')\n",
    "electoral_roll_names_hin.to_excel(electoral_roll_names_hin_path, columns = ('ps_id', 'Name_Cleaned_Hin', 'mukhya_village', 'block', 'tehsil'), encoding = 'utf-32',index = False)"
   ]
  },
  {
   "cell_type": "code",
   "execution_count": null,
   "metadata": {},
   "outputs": [],
   "source": []
  },
  {
   "cell_type": "code",
   "execution_count": null,
   "metadata": {},
   "outputs": [],
   "source": []
  },
  {
   "cell_type": "code",
   "execution_count": null,
   "metadata": {},
   "outputs": [],
   "source": []
  },
  {
   "cell_type": "code",
   "execution_count": null,
   "metadata": {},
   "outputs": [],
   "source": []
  },
  {
   "cell_type": "code",
   "execution_count": null,
   "metadata": {},
   "outputs": [],
   "source": []
  }
 ],
 "metadata": {
  "kernelspec": {
   "display_name": "Python 3",
   "language": "python",
   "name": "python3"
  },
  "language_info": {
   "codemirror_mode": {
    "name": "ipython",
    "version": 3
   },
   "file_extension": ".py",
   "mimetype": "text/x-python",
   "name": "python",
   "nbconvert_exporter": "python",
   "pygments_lexer": "ipython3",
   "version": "3.8.8"
  }
 },
 "nbformat": 4,
 "nbformat_minor": 2
}
